{
 "cells": [
  {
   "cell_type": "code",
   "execution_count": 1,
   "metadata": {},
   "outputs": [],
   "source": [
    "import pandas as pd\n",
    "import numpy as np\n",
    "import matplotlib.pyplot as plt\n",
    "\n",
    "from datetime import date, datetime, time, timedelta\n",
    "from babel.dates import format_date, format_datetime, format_time, format_timedelta, Locale\n",
    "import locale                                    # para tratar de poner espanol\n",
    "#locale = Locale('es', 'CL')\n",
    "#locale.setlocale(locale.LC_ALL,'es_ES.UTF-8')  \n",
    "\n",
    "import os\n",
    "import runpy\n",
    "from pyexcel_ods import get_data\n",
    "\n",
    "from IPython.core.interactiveshell import InteractiveShell\n",
    "InteractiveShell.ast_node_interactivity = \"all\"\n",
    "%matplotlib inline\n",
    "\n",
    "#importo sólo algunas de mis funciones, dejo otras excluídas...."
   ]
  },
  {
   "cell_type": "code",
   "execution_count": 2,
   "metadata": {},
   "outputs": [],
   "source": [
    "# cargo algunos scripts que me suelen servir para análisis"
   ]
  },
  {
   "cell_type": "code",
   "execution_count": 3,
   "metadata": {},
   "outputs": [
    {
     "data": {
      "text/plain": [
       "['/home/egidio/Dropbox/Compucosas/programas py/percentiles.py',\n",
       " '/home/egidio/Dropbox/Compucosas/programas py/lector_ODF.py',\n",
       " '/home/egidio/Dropbox/Compucosas/programas py/tabala_frecuencias.py',\n",
       " '/home/egidio/Dropbox/Compucosas/programas py/características_operativas_de_test.py',\n",
       " '/home/egidio/Dropbox/Compucosas/programas py/como importar',\n",
       " '/home/egidio/Dropbox/Compucosas/programas py/descripcion_univariada.py',\n",
       " '/home/egidio/Dropbox/Compucosas/programas py/__pycache__/percentiles.cpython-36.pyc',\n",
       " '/home/egidio/Dropbox/Compucosas/programas py/__pycache__/características_operativas_de_test.cpython-36.pyc',\n",
       " '/home/egidio/Dropbox/Compucosas/programas py/__pycache__/lector_ODF.cpython-36.pyc',\n",
       " '/home/egidio/Dropbox/Compucosas/programas py/__pycache__/descripcion_univariada.cpython-36.pyc',\n",
       " '/home/egidio/Dropbox/Compucosas/programas py/__pycache__/tabala_frecuencias.cpython-36.pyc',\n",
       " '/home/egidio/Dropbox/Compucosas/programas py/__pycache__/funciones_locales.cpython-36.pyc']"
      ]
     },
     "execution_count": 3,
     "metadata": {},
     "output_type": "execute_result"
    }
   ],
   "source": [
    "#listo los archivos\n",
    "scripts = []\n",
    "for dirname, dirnames, filenames in os.walk('/home/egidio/Dropbox/Compucosas/programas py'):\n",
    "    for filename in filenames:\n",
    "        scripts.append(os.path.join(dirname, filename))\n",
    "\n",
    "scripts\n",
    "\n",
    "# los cargo\n",
    "for script in scripts:\n",
    "    if script[-3:] == '.py':\n",
    "        exec(open(str(script)).read())"
   ]
  },
  {
   "cell_type": "markdown",
   "metadata": {},
   "source": [
    "# Busco las BDs diponibles"
   ]
  },
  {
   "cell_type": "markdown",
   "metadata": {},
   "source": [
    "Busco las BD siponibles en la carpeta./BD, las que buscaré y las juntaré en un solo archivo"
   ]
  },
  {
   "cell_type": "code",
   "execution_count": 4,
   "metadata": {
    "scrolled": true
   },
   "outputs": [
    {
     "data": {
      "text/plain": [
       "['../BD llamadas/CDR 2019-2.csv',\n",
       " '../BD llamadas/CDR 2017-1.csv',\n",
       " '../BD llamadas/CDR 2018-3.csv',\n",
       " '../BD llamadas/CDR 2019-3.csv',\n",
       " '../BD llamadas/CDR 2018-1.csv',\n",
       " '../BD llamadas/CDR 2020-mayo.csv',\n",
       " '../BD llamadas/CDR 2019-1.csv',\n",
       " '../BD llamadas/CDR 2018-2.csv',\n",
       " '../BD llamadas/CDR 2017-2.csv',\n",
       " '../BD llamadas/CDR 2020-1.csv',\n",
       " '../BD llamadas/Bases de datos CDR.md']"
      ]
     },
     "execution_count": 4,
     "metadata": {},
     "output_type": "execute_result"
    }
   ],
   "source": [
    "datos = []\n",
    "for dirname, dirnames, filenames in os.walk('../BD llamadas/'):\n",
    "    for filename in filenames:\n",
    "        datos.append(os.path.join(dirname, filename))\n",
    "datos"
   ]
  },
  {
   "cell_type": "markdown",
   "metadata": {},
   "source": [
    "selecciono algunos..."
   ]
  },
  {
   "cell_type": "code",
   "execution_count": 5,
   "metadata": {},
   "outputs": [
    {
     "data": {
      "text/plain": [
       "['../BD llamadas/CDR 2019-2.csv',\n",
       " '../BD llamadas/CDR 2017-1.csv',\n",
       " '../BD llamadas/CDR 2018-3.csv',\n",
       " '../BD llamadas/CDR 2019-3.csv',\n",
       " '../BD llamadas/CDR 2018-1.csv',\n",
       " '../BD llamadas/CDR 2020-mayo.csv',\n",
       " '../BD llamadas/CDR 2019-1.csv',\n",
       " '../BD llamadas/CDR 2018-2.csv',\n",
       " '../BD llamadas/CDR 2017-2.csv',\n",
       " '../BD llamadas/CDR 2020-1.csv']"
      ]
     },
     "execution_count": 5,
     "metadata": {},
     "output_type": "execute_result"
    }
   ],
   "source": [
    "archivos_llamadas = [f for f in datos if '.csv' in f]\n",
    "archivos_llamadas"
   ]
  },
  {
   "cell_type": "markdown",
   "metadata": {},
   "source": [
    "dejo todo lo que tengo como un solo objeto: BD"
   ]
  },
  {
   "cell_type": "code",
   "execution_count": 6,
   "metadata": {},
   "outputs": [],
   "source": [
    "BD = pd.DataFrame()"
   ]
  },
  {
   "cell_type": "markdown",
   "metadata": {},
   "source": [
    "Los meto todos en una sola BD"
   ]
  },
  {
   "cell_type": "code",
   "execution_count": 19,
   "metadata": {},
   "outputs": [
    {
     "data": {
      "text/html": [
       "<div>\n",
       "<style scoped>\n",
       "    .dataframe tbody tr th:only-of-type {\n",
       "        vertical-align: middle;\n",
       "    }\n",
       "\n",
       "    .dataframe tbody tr th {\n",
       "        vertical-align: top;\n",
       "    }\n",
       "\n",
       "    .dataframe thead th {\n",
       "        text-align: right;\n",
       "    }\n",
       "</style>\n",
       "<table border=\"1\" class=\"dataframe\">\n",
       "  <thead>\n",
       "    <tr style=\"text-align: right;\">\n",
       "      <th></th>\n",
       "      <th>calldate</th>\n",
       "      <th>clid</th>\n",
       "      <th>src</th>\n",
       "      <th>dst</th>\n",
       "      <th>dcontext</th>\n",
       "      <th>channel</th>\n",
       "      <th>dstchannel</th>\n",
       "      <th>lastapp</th>\n",
       "      <th>lastdata</th>\n",
       "      <th>duration</th>\n",
       "      <th>billsec</th>\n",
       "      <th>disposition</th>\n",
       "      <th>amaflags</th>\n",
       "      <th>accountcode</th>\n",
       "      <th>uniqueid</th>\n",
       "      <th>userfield</th>\n",
       "    </tr>\n",
       "  </thead>\n",
       "  <tbody>\n",
       "    <tr>\n",
       "      <th>0</th>\n",
       "      <td>2019-08-31 23:59:48</td>\n",
       "      <td>934194911 &lt;934194911&gt;</td>\n",
       "      <td>934194911</td>\n",
       "      <td>131</td>\n",
       "      <td>ext-queues</td>\n",
       "      <td>DAHDI/1-1</td>\n",
       "      <td>SIP/201-0001015b</td>\n",
       "      <td>Queue</td>\n",
       "      <td>131,tr,,,,,,,,</td>\n",
       "      <td>92</td>\n",
       "      <td>91</td>\n",
       "      <td>ANSWERED</td>\n",
       "      <td>3</td>\n",
       "      <td>NaN</td>\n",
       "      <td>1.567310e+09</td>\n",
       "      <td>NaN</td>\n",
       "    </tr>\n",
       "    <tr>\n",
       "      <th>1</th>\n",
       "      <td>2019-08-31 23:59:37</td>\n",
       "      <td>208</td>\n",
       "      <td>208</td>\n",
       "      <td>9933766729</td>\n",
       "      <td>from-internal</td>\n",
       "      <td>SIP/208-00010159</td>\n",
       "      <td>DAHDI/2-1</td>\n",
       "      <td>Dial</td>\n",
       "      <td>DAHDI/2/933766729,300,</td>\n",
       "      <td>38</td>\n",
       "      <td>34</td>\n",
       "      <td>ANSWERED</td>\n",
       "      <td>3</td>\n",
       "      <td>NaN</td>\n",
       "      <td>1.567310e+09</td>\n",
       "      <td>NaN</td>\n",
       "    </tr>\n",
       "  </tbody>\n",
       "</table>\n",
       "</div>"
      ],
      "text/plain": [
       "              calldate                   clid        src         dst  \\\n",
       "0  2019-08-31 23:59:48  934194911 <934194911>  934194911         131   \n",
       "1  2019-08-31 23:59:37                    208        208  9933766729   \n",
       "\n",
       "        dcontext           channel        dstchannel lastapp  \\\n",
       "0     ext-queues         DAHDI/1-1  SIP/201-0001015b   Queue   \n",
       "1  from-internal  SIP/208-00010159         DAHDI/2-1    Dial   \n",
       "\n",
       "                 lastdata  duration  billsec disposition  amaflags  \\\n",
       "0          131,tr,,,,,,,,        92       91    ANSWERED         3   \n",
       "1  DAHDI/2/933766729,300,        38       34    ANSWERED         3   \n",
       "\n",
       "   accountcode      uniqueid  userfield  \n",
       "0          NaN  1.567310e+09        NaN  \n",
       "1          NaN  1.567310e+09        NaN  "
      ]
     },
     "execution_count": 19,
     "metadata": {},
     "output_type": "execute_result"
    },
    {
     "name": "stderr",
     "output_type": "stream",
     "text": [
      "/usr/local/lib/python3.7/dist-packages/IPython/core/interactiveshell.py:3063: DtypeWarning: Columns (2) have mixed types.Specify dtype option on import or set low_memory=False.\n",
      "  interactivity=interactivity, compiler=compiler, result=result)\n"
     ]
    },
    {
     "data": {
      "text/html": [
       "<div>\n",
       "<style scoped>\n",
       "    .dataframe tbody tr th:only-of-type {\n",
       "        vertical-align: middle;\n",
       "    }\n",
       "\n",
       "    .dataframe tbody tr th {\n",
       "        vertical-align: top;\n",
       "    }\n",
       "\n",
       "    .dataframe thead th {\n",
       "        text-align: right;\n",
       "    }\n",
       "</style>\n",
       "<table border=\"1\" class=\"dataframe\">\n",
       "  <thead>\n",
       "    <tr style=\"text-align: right;\">\n",
       "      <th></th>\n",
       "      <th>calldate</th>\n",
       "      <th>clid</th>\n",
       "      <th>src</th>\n",
       "      <th>dst</th>\n",
       "      <th>dcontext</th>\n",
       "      <th>channel</th>\n",
       "      <th>dstchannel</th>\n",
       "      <th>lastapp</th>\n",
       "      <th>lastdata</th>\n",
       "      <th>duration</th>\n",
       "      <th>billsec</th>\n",
       "      <th>disposition</th>\n",
       "      <th>amaflags</th>\n",
       "      <th>accountcode</th>\n",
       "      <th>uniqueid</th>\n",
       "      <th>userfield</th>\n",
       "    </tr>\n",
       "  </thead>\n",
       "  <tbody>\n",
       "    <tr>\n",
       "      <th>0</th>\n",
       "      <td>2017-06-30 23:59:29</td>\n",
       "      <td>SAMU 201 &lt;201&gt;</td>\n",
       "      <td>201</td>\n",
       "      <td>205</td>\n",
       "      <td>from-internal</td>\n",
       "      <td>SIP/201-000022aa</td>\n",
       "      <td>SIP/205-000022ab</td>\n",
       "      <td>Dial</td>\n",
       "      <td>SIP/205,,trI</td>\n",
       "      <td>29</td>\n",
       "      <td>24</td>\n",
       "      <td>ANSWERED</td>\n",
       "      <td>3</td>\n",
       "      <td>NaN</td>\n",
       "      <td>1.498882e+09</td>\n",
       "      <td>NaN</td>\n",
       "    </tr>\n",
       "    <tr>\n",
       "      <th>1</th>\n",
       "      <td>2017-06-30 23:58:55</td>\n",
       "      <td>SAMU 201 &lt;201&gt;</td>\n",
       "      <td>201</td>\n",
       "      <td>205</td>\n",
       "      <td>from-internal</td>\n",
       "      <td>SIP/201-000022a8</td>\n",
       "      <td>SIP/205-000022a9</td>\n",
       "      <td>Dial</td>\n",
       "      <td>SIP/205,,trI</td>\n",
       "      <td>2</td>\n",
       "      <td>0</td>\n",
       "      <td>NO ANSWER</td>\n",
       "      <td>3</td>\n",
       "      <td>NaN</td>\n",
       "      <td>1.498882e+09</td>\n",
       "      <td>NaN</td>\n",
       "    </tr>\n",
       "  </tbody>\n",
       "</table>\n",
       "</div>"
      ],
      "text/plain": [
       "              calldate            clid  src  dst       dcontext  \\\n",
       "0  2017-06-30 23:59:29  SAMU 201 <201>  201  205  from-internal   \n",
       "1  2017-06-30 23:58:55  SAMU 201 <201>  201  205  from-internal   \n",
       "\n",
       "            channel        dstchannel lastapp      lastdata  duration  \\\n",
       "0  SIP/201-000022aa  SIP/205-000022ab    Dial  SIP/205,,trI        29   \n",
       "1  SIP/201-000022a8  SIP/205-000022a9    Dial  SIP/205,,trI         2   \n",
       "\n",
       "   billsec disposition  amaflags  accountcode      uniqueid  userfield  \n",
       "0       24    ANSWERED         3          NaN  1.498882e+09        NaN  \n",
       "1        0   NO ANSWER         3          NaN  1.498882e+09        NaN  "
      ]
     },
     "execution_count": 19,
     "metadata": {},
     "output_type": "execute_result"
    },
    {
     "name": "stderr",
     "output_type": "stream",
     "text": [
      "/usr/local/lib/python3.7/dist-packages/IPython/core/interactiveshell.py:3063: DtypeWarning: Columns (2) have mixed types.Specify dtype option on import or set low_memory=False.\n",
      "  interactivity=interactivity, compiler=compiler, result=result)\n"
     ]
    },
    {
     "data": {
      "text/html": [
       "<div>\n",
       "<style scoped>\n",
       "    .dataframe tbody tr th:only-of-type {\n",
       "        vertical-align: middle;\n",
       "    }\n",
       "\n",
       "    .dataframe tbody tr th {\n",
       "        vertical-align: top;\n",
       "    }\n",
       "\n",
       "    .dataframe thead th {\n",
       "        text-align: right;\n",
       "    }\n",
       "</style>\n",
       "<table border=\"1\" class=\"dataframe\">\n",
       "  <thead>\n",
       "    <tr style=\"text-align: right;\">\n",
       "      <th></th>\n",
       "      <th>calldate</th>\n",
       "      <th>clid</th>\n",
       "      <th>src</th>\n",
       "      <th>dst</th>\n",
       "      <th>dcontext</th>\n",
       "      <th>channel</th>\n",
       "      <th>dstchannel</th>\n",
       "      <th>lastapp</th>\n",
       "      <th>lastdata</th>\n",
       "      <th>duration</th>\n",
       "      <th>billsec</th>\n",
       "      <th>disposition</th>\n",
       "      <th>amaflags</th>\n",
       "      <th>accountcode</th>\n",
       "      <th>uniqueid</th>\n",
       "      <th>userfield</th>\n",
       "    </tr>\n",
       "  </thead>\n",
       "  <tbody>\n",
       "    <tr>\n",
       "      <th>0</th>\n",
       "      <td>2018-12-31 23:58:46</td>\n",
       "      <td>SAMU 202 &lt;202&gt;</td>\n",
       "      <td>202</td>\n",
       "      <td>212</td>\n",
       "      <td>from-internal</td>\n",
       "      <td>SIP/202-00020b5e</td>\n",
       "      <td>SIP/212-00020b5f</td>\n",
       "      <td>Dial</td>\n",
       "      <td>SIP/212,,trI</td>\n",
       "      <td>27</td>\n",
       "      <td>24</td>\n",
       "      <td>ANSWERED</td>\n",
       "      <td>3</td>\n",
       "      <td>NaN</td>\n",
       "      <td>1.546308e+09</td>\n",
       "      <td>NaN</td>\n",
       "    </tr>\n",
       "    <tr>\n",
       "      <th>1</th>\n",
       "      <td>2018-12-31 23:58:31</td>\n",
       "      <td>0995107567 &lt;0995107567&gt;</td>\n",
       "      <td>0995107567</td>\n",
       "      <td>131</td>\n",
       "      <td>ext-queues</td>\n",
       "      <td>DAHDI/1-1</td>\n",
       "      <td>SIP/201-00020b5d</td>\n",
       "      <td>Queue</td>\n",
       "      <td>131,tr,,,,,,,,</td>\n",
       "      <td>370</td>\n",
       "      <td>369</td>\n",
       "      <td>ANSWERED</td>\n",
       "      <td>3</td>\n",
       "      <td>NaN</td>\n",
       "      <td>1.546308e+09</td>\n",
       "      <td>NaN</td>\n",
       "    </tr>\n",
       "  </tbody>\n",
       "</table>\n",
       "</div>"
      ],
      "text/plain": [
       "              calldate                     clid         src  dst  \\\n",
       "0  2018-12-31 23:58:46           SAMU 202 <202>         202  212   \n",
       "1  2018-12-31 23:58:31  0995107567 <0995107567>  0995107567  131   \n",
       "\n",
       "        dcontext           channel        dstchannel lastapp        lastdata  \\\n",
       "0  from-internal  SIP/202-00020b5e  SIP/212-00020b5f    Dial    SIP/212,,trI   \n",
       "1     ext-queues         DAHDI/1-1  SIP/201-00020b5d   Queue  131,tr,,,,,,,,   \n",
       "\n",
       "   duration  billsec disposition  amaflags  accountcode      uniqueid  \\\n",
       "0        27       24    ANSWERED         3          NaN  1.546308e+09   \n",
       "1       370      369    ANSWERED         3          NaN  1.546308e+09   \n",
       "\n",
       "   userfield  \n",
       "0        NaN  \n",
       "1        NaN  "
      ]
     },
     "execution_count": 19,
     "metadata": {},
     "output_type": "execute_result"
    },
    {
     "name": "stderr",
     "output_type": "stream",
     "text": [
      "/usr/local/lib/python3.7/dist-packages/IPython/core/interactiveshell.py:3063: DtypeWarning: Columns (2,3) have mixed types.Specify dtype option on import or set low_memory=False.\n",
      "  interactivity=interactivity, compiler=compiler, result=result)\n"
     ]
    },
    {
     "data": {
      "text/html": [
       "<div>\n",
       "<style scoped>\n",
       "    .dataframe tbody tr th:only-of-type {\n",
       "        vertical-align: middle;\n",
       "    }\n",
       "\n",
       "    .dataframe tbody tr th {\n",
       "        vertical-align: top;\n",
       "    }\n",
       "\n",
       "    .dataframe thead th {\n",
       "        text-align: right;\n",
       "    }\n",
       "</style>\n",
       "<table border=\"1\" class=\"dataframe\">\n",
       "  <thead>\n",
       "    <tr style=\"text-align: right;\">\n",
       "      <th></th>\n",
       "      <th>calldate</th>\n",
       "      <th>clid</th>\n",
       "      <th>src</th>\n",
       "      <th>dst</th>\n",
       "      <th>dcontext</th>\n",
       "      <th>channel</th>\n",
       "      <th>dstchannel</th>\n",
       "      <th>lastapp</th>\n",
       "      <th>lastdata</th>\n",
       "      <th>duration</th>\n",
       "      <th>billsec</th>\n",
       "      <th>disposition</th>\n",
       "      <th>amaflags</th>\n",
       "      <th>accountcode</th>\n",
       "      <th>uniqueid</th>\n",
       "      <th>userfield</th>\n",
       "    </tr>\n",
       "  </thead>\n",
       "  <tbody>\n",
       "    <tr>\n",
       "      <th>0</th>\n",
       "      <td>2019-12-31 23:59:38</td>\n",
       "      <td>205</td>\n",
       "      <td>205</td>\n",
       "      <td>9961772383</td>\n",
       "      <td>from-internal</td>\n",
       "      <td>SIP/205-00045d0f</td>\n",
       "      <td>DAHDI/2-1</td>\n",
       "      <td>Dial</td>\n",
       "      <td>DAHDI/2/961772383,300,</td>\n",
       "      <td>283</td>\n",
       "      <td>279</td>\n",
       "      <td>ANSWERED</td>\n",
       "      <td>3</td>\n",
       "      <td>NaN</td>\n",
       "      <td>1.577848e+09</td>\n",
       "      <td>NaN</td>\n",
       "    </tr>\n",
       "    <tr>\n",
       "      <th>1</th>\n",
       "      <td>2019-12-31 23:58:57</td>\n",
       "      <td>972951556 &lt;972951556&gt;</td>\n",
       "      <td>972951556</td>\n",
       "      <td>131</td>\n",
       "      <td>ext-queues</td>\n",
       "      <td>DAHDI/6-1</td>\n",
       "      <td>SIP/203-00045d0e</td>\n",
       "      <td>Queue</td>\n",
       "      <td>131,tr,,,,,,,,</td>\n",
       "      <td>618</td>\n",
       "      <td>617</td>\n",
       "      <td>ANSWERED</td>\n",
       "      <td>3</td>\n",
       "      <td>NaN</td>\n",
       "      <td>1.577848e+09</td>\n",
       "      <td>NaN</td>\n",
       "    </tr>\n",
       "  </tbody>\n",
       "</table>\n",
       "</div>"
      ],
      "text/plain": [
       "              calldate                   clid        src         dst  \\\n",
       "0  2019-12-31 23:59:38                    205        205  9961772383   \n",
       "1  2019-12-31 23:58:57  972951556 <972951556>  972951556         131   \n",
       "\n",
       "        dcontext           channel        dstchannel lastapp  \\\n",
       "0  from-internal  SIP/205-00045d0f         DAHDI/2-1    Dial   \n",
       "1     ext-queues         DAHDI/6-1  SIP/203-00045d0e   Queue   \n",
       "\n",
       "                 lastdata  duration  billsec disposition  amaflags  \\\n",
       "0  DAHDI/2/961772383,300,       283      279    ANSWERED         3   \n",
       "1          131,tr,,,,,,,,       618      617    ANSWERED         3   \n",
       "\n",
       "   accountcode      uniqueid  userfield  \n",
       "0          NaN  1.577848e+09        NaN  \n",
       "1          NaN  1.577848e+09        NaN  "
      ]
     },
     "execution_count": 19,
     "metadata": {},
     "output_type": "execute_result"
    },
    {
     "data": {
      "text/html": [
       "<div>\n",
       "<style scoped>\n",
       "    .dataframe tbody tr th:only-of-type {\n",
       "        vertical-align: middle;\n",
       "    }\n",
       "\n",
       "    .dataframe tbody tr th {\n",
       "        vertical-align: top;\n",
       "    }\n",
       "\n",
       "    .dataframe thead th {\n",
       "        text-align: right;\n",
       "    }\n",
       "</style>\n",
       "<table border=\"1\" class=\"dataframe\">\n",
       "  <thead>\n",
       "    <tr style=\"text-align: right;\">\n",
       "      <th></th>\n",
       "      <th>calldate</th>\n",
       "      <th>clid</th>\n",
       "      <th>src</th>\n",
       "      <th>dst</th>\n",
       "      <th>dcontext</th>\n",
       "      <th>channel</th>\n",
       "      <th>dstchannel</th>\n",
       "      <th>lastapp</th>\n",
       "      <th>lastdata</th>\n",
       "      <th>duration</th>\n",
       "      <th>billsec</th>\n",
       "      <th>disposition</th>\n",
       "      <th>amaflags</th>\n",
       "      <th>accountcode</th>\n",
       "      <th>uniqueid</th>\n",
       "      <th>userfield</th>\n",
       "    </tr>\n",
       "  </thead>\n",
       "  <tbody>\n",
       "    <tr>\n",
       "      <th>0</th>\n",
       "      <td>2018-04-30 23:58:20</td>\n",
       "      <td>0959286957 &lt;0959286957&gt;</td>\n",
       "      <td>959286957.0</td>\n",
       "      <td>131</td>\n",
       "      <td>ext-queues</td>\n",
       "      <td>DAHDI/1-1</td>\n",
       "      <td>SIP/202-000001a6</td>\n",
       "      <td>Queue</td>\n",
       "      <td>131,t,,,,,,,,</td>\n",
       "      <td>27</td>\n",
       "      <td>26</td>\n",
       "      <td>ANSWERED</td>\n",
       "      <td>3</td>\n",
       "      <td>NaN</td>\n",
       "      <td>1.525144e+09</td>\n",
       "      <td>NaN</td>\n",
       "    </tr>\n",
       "    <tr>\n",
       "      <th>1</th>\n",
       "      <td>2018-04-30 23:58:05</td>\n",
       "      <td>SAMU 203 &lt;203&gt;</td>\n",
       "      <td>203.0</td>\n",
       "      <td>205</td>\n",
       "      <td>from-internal</td>\n",
       "      <td>SIP/203-000001a4</td>\n",
       "      <td>SIP/205-000001a5</td>\n",
       "      <td>Dial</td>\n",
       "      <td>SIP/205,,trI</td>\n",
       "      <td>293</td>\n",
       "      <td>288</td>\n",
       "      <td>ANSWERED</td>\n",
       "      <td>3</td>\n",
       "      <td>NaN</td>\n",
       "      <td>1.525143e+09</td>\n",
       "      <td>NaN</td>\n",
       "    </tr>\n",
       "  </tbody>\n",
       "</table>\n",
       "</div>"
      ],
      "text/plain": [
       "              calldate                     clid          src  dst  \\\n",
       "0  2018-04-30 23:58:20  0959286957 <0959286957>  959286957.0  131   \n",
       "1  2018-04-30 23:58:05           SAMU 203 <203>        203.0  205   \n",
       "\n",
       "        dcontext           channel        dstchannel lastapp       lastdata  \\\n",
       "0     ext-queues         DAHDI/1-1  SIP/202-000001a6   Queue  131,t,,,,,,,,   \n",
       "1  from-internal  SIP/203-000001a4  SIP/205-000001a5    Dial   SIP/205,,trI   \n",
       "\n",
       "   duration  billsec disposition  amaflags  accountcode      uniqueid  \\\n",
       "0        27       26    ANSWERED         3          NaN  1.525144e+09   \n",
       "1       293      288    ANSWERED         3          NaN  1.525143e+09   \n",
       "\n",
       "   userfield  \n",
       "0        NaN  \n",
       "1        NaN  "
      ]
     },
     "execution_count": 19,
     "metadata": {},
     "output_type": "execute_result"
    },
    {
     "data": {
      "text/html": [
       "<div>\n",
       "<style scoped>\n",
       "    .dataframe tbody tr th:only-of-type {\n",
       "        vertical-align: middle;\n",
       "    }\n",
       "\n",
       "    .dataframe tbody tr th {\n",
       "        vertical-align: top;\n",
       "    }\n",
       "\n",
       "    .dataframe thead th {\n",
       "        text-align: right;\n",
       "    }\n",
       "</style>\n",
       "<table border=\"1\" class=\"dataframe\">\n",
       "  <thead>\n",
       "    <tr style=\"text-align: right;\">\n",
       "      <th></th>\n",
       "      <th>calldate</th>\n",
       "      <th>clid</th>\n",
       "      <th>src</th>\n",
       "      <th>dst</th>\n",
       "      <th>dcontext</th>\n",
       "      <th>channel</th>\n",
       "      <th>dstchannel</th>\n",
       "      <th>lastapp</th>\n",
       "      <th>lastdata</th>\n",
       "      <th>duration</th>\n",
       "      <th>billsec</th>\n",
       "      <th>disposition</th>\n",
       "      <th>amaflags</th>\n",
       "      <th>accountcode</th>\n",
       "      <th>uniqueid</th>\n",
       "      <th>userfield</th>\n",
       "    </tr>\n",
       "  </thead>\n",
       "  <tbody>\n",
       "    <tr>\n",
       "      <th>0</th>\n",
       "      <td>2020-05-23 23:12:29</td>\n",
       "      <td>SAMU 204 &lt;204&gt;</td>\n",
       "      <td>204.0</td>\n",
       "      <td>205</td>\n",
       "      <td>from-internal</td>\n",
       "      <td>SIP/204-00007024</td>\n",
       "      <td>SIP/205-00007025</td>\n",
       "      <td>Dial</td>\n",
       "      <td>SIP/205,,trI</td>\n",
       "      <td>8</td>\n",
       "      <td>0</td>\n",
       "      <td>NO ANSWER</td>\n",
       "      <td>3</td>\n",
       "      <td>NaN</td>\n",
       "      <td>1.590290e+09</td>\n",
       "      <td>NaN</td>\n",
       "    </tr>\n",
       "    <tr>\n",
       "      <th>1</th>\n",
       "      <td>2020-05-23 23:11:51</td>\n",
       "      <td>979689143 &lt;979689143&gt;</td>\n",
       "      <td>979689143.0</td>\n",
       "      <td>131</td>\n",
       "      <td>ext-queues</td>\n",
       "      <td>DAHDI/7-1</td>\n",
       "      <td>SIP/202-00007023</td>\n",
       "      <td>Queue</td>\n",
       "      <td>131,tr,,,,,,,,</td>\n",
       "      <td>21</td>\n",
       "      <td>20</td>\n",
       "      <td>ANSWERED</td>\n",
       "      <td>3</td>\n",
       "      <td>NaN</td>\n",
       "      <td>1.590290e+09</td>\n",
       "      <td>NaN</td>\n",
       "    </tr>\n",
       "  </tbody>\n",
       "</table>\n",
       "</div>"
      ],
      "text/plain": [
       "              calldate                   clid          src  dst  \\\n",
       "0  2020-05-23 23:12:29         SAMU 204 <204>        204.0  205   \n",
       "1  2020-05-23 23:11:51  979689143 <979689143>  979689143.0  131   \n",
       "\n",
       "        dcontext           channel        dstchannel lastapp        lastdata  \\\n",
       "0  from-internal  SIP/204-00007024  SIP/205-00007025    Dial    SIP/205,,trI   \n",
       "1     ext-queues         DAHDI/7-1  SIP/202-00007023   Queue  131,tr,,,,,,,,   \n",
       "\n",
       "   duration  billsec disposition  amaflags  accountcode      uniqueid  \\\n",
       "0         8        0   NO ANSWER         3          NaN  1.590290e+09   \n",
       "1        21       20    ANSWERED         3          NaN  1.590290e+09   \n",
       "\n",
       "   userfield  \n",
       "0        NaN  \n",
       "1        NaN  "
      ]
     },
     "execution_count": 19,
     "metadata": {},
     "output_type": "execute_result"
    },
    {
     "data": {
      "text/html": [
       "<div>\n",
       "<style scoped>\n",
       "    .dataframe tbody tr th:only-of-type {\n",
       "        vertical-align: middle;\n",
       "    }\n",
       "\n",
       "    .dataframe tbody tr th {\n",
       "        vertical-align: top;\n",
       "    }\n",
       "\n",
       "    .dataframe thead th {\n",
       "        text-align: right;\n",
       "    }\n",
       "</style>\n",
       "<table border=\"1\" class=\"dataframe\">\n",
       "  <thead>\n",
       "    <tr style=\"text-align: right;\">\n",
       "      <th></th>\n",
       "      <th>calldate</th>\n",
       "      <th>clid</th>\n",
       "      <th>src</th>\n",
       "      <th>dst</th>\n",
       "      <th>dcontext</th>\n",
       "      <th>channel</th>\n",
       "      <th>dstchannel</th>\n",
       "      <th>lastapp</th>\n",
       "      <th>lastdata</th>\n",
       "      <th>duration</th>\n",
       "      <th>billsec</th>\n",
       "      <th>disposition</th>\n",
       "      <th>amaflags</th>\n",
       "      <th>accountcode</th>\n",
       "      <th>uniqueid</th>\n",
       "      <th>userfield</th>\n",
       "    </tr>\n",
       "  </thead>\n",
       "  <tbody>\n",
       "    <tr>\n",
       "      <th>0</th>\n",
       "      <td>2019-04-30 23:53:49</td>\n",
       "      <td>569350562 &lt;569350562&gt;</td>\n",
       "      <td>569350562.0</td>\n",
       "      <td>131</td>\n",
       "      <td>ext-queues</td>\n",
       "      <td>DAHDI/7-1</td>\n",
       "      <td>SIP/204-00001db4</td>\n",
       "      <td>Queue</td>\n",
       "      <td>131,t,,,,,,,,</td>\n",
       "      <td>523</td>\n",
       "      <td>522</td>\n",
       "      <td>ANSWERED</td>\n",
       "      <td>3</td>\n",
       "      <td>NaN</td>\n",
       "      <td>1.556683e+09</td>\n",
       "      <td>NaN</td>\n",
       "    </tr>\n",
       "    <tr>\n",
       "      <th>1</th>\n",
       "      <td>2019-04-30 23:52:43</td>\n",
       "      <td>950189234 &lt;950189234&gt;</td>\n",
       "      <td>950189234.0</td>\n",
       "      <td>131</td>\n",
       "      <td>ext-queues</td>\n",
       "      <td>DAHDI/4-1</td>\n",
       "      <td>SIP/200-00001db1</td>\n",
       "      <td>Queue</td>\n",
       "      <td>131,t,,,,,,,,</td>\n",
       "      <td>32</td>\n",
       "      <td>31</td>\n",
       "      <td>ANSWERED</td>\n",
       "      <td>3</td>\n",
       "      <td>NaN</td>\n",
       "      <td>1.556683e+09</td>\n",
       "      <td>NaN</td>\n",
       "    </tr>\n",
       "  </tbody>\n",
       "</table>\n",
       "</div>"
      ],
      "text/plain": [
       "              calldate                   clid          src  dst    dcontext  \\\n",
       "0  2019-04-30 23:53:49  569350562 <569350562>  569350562.0  131  ext-queues   \n",
       "1  2019-04-30 23:52:43  950189234 <950189234>  950189234.0  131  ext-queues   \n",
       "\n",
       "     channel        dstchannel lastapp       lastdata  duration  billsec  \\\n",
       "0  DAHDI/7-1  SIP/204-00001db4   Queue  131,t,,,,,,,,       523      522   \n",
       "1  DAHDI/4-1  SIP/200-00001db1   Queue  131,t,,,,,,,,        32       31   \n",
       "\n",
       "  disposition  amaflags  accountcode      uniqueid  userfield  \n",
       "0    ANSWERED         3          NaN  1.556683e+09        NaN  \n",
       "1    ANSWERED         3          NaN  1.556683e+09        NaN  "
      ]
     },
     "execution_count": 19,
     "metadata": {},
     "output_type": "execute_result"
    },
    {
     "name": "stderr",
     "output_type": "stream",
     "text": [
      "/usr/local/lib/python3.7/dist-packages/IPython/core/interactiveshell.py:3063: DtypeWarning: Columns (2) have mixed types.Specify dtype option on import or set low_memory=False.\n",
      "  interactivity=interactivity, compiler=compiler, result=result)\n"
     ]
    },
    {
     "data": {
      "text/html": [
       "<div>\n",
       "<style scoped>\n",
       "    .dataframe tbody tr th:only-of-type {\n",
       "        vertical-align: middle;\n",
       "    }\n",
       "\n",
       "    .dataframe tbody tr th {\n",
       "        vertical-align: top;\n",
       "    }\n",
       "\n",
       "    .dataframe thead th {\n",
       "        text-align: right;\n",
       "    }\n",
       "</style>\n",
       "<table border=\"1\" class=\"dataframe\">\n",
       "  <thead>\n",
       "    <tr style=\"text-align: right;\">\n",
       "      <th></th>\n",
       "      <th>calldate</th>\n",
       "      <th>clid</th>\n",
       "      <th>src</th>\n",
       "      <th>dst</th>\n",
       "      <th>dcontext</th>\n",
       "      <th>channel</th>\n",
       "      <th>dstchannel</th>\n",
       "      <th>lastapp</th>\n",
       "      <th>lastdata</th>\n",
       "      <th>duration</th>\n",
       "      <th>billsec</th>\n",
       "      <th>disposition</th>\n",
       "      <th>amaflags</th>\n",
       "      <th>accountcode</th>\n",
       "      <th>uniqueid</th>\n",
       "      <th>userfield</th>\n",
       "    </tr>\n",
       "  </thead>\n",
       "  <tbody>\n",
       "    <tr>\n",
       "      <th>0</th>\n",
       "      <td>2018-08-31 23:59:31</td>\n",
       "      <td>0997159155 &lt;0997159155&gt;</td>\n",
       "      <td>9.97159e+08</td>\n",
       "      <td>131</td>\n",
       "      <td>ext-queues</td>\n",
       "      <td>DAHDI/1-1</td>\n",
       "      <td>SIP/202-0000955b</td>\n",
       "      <td>Queue</td>\n",
       "      <td>131,t,,,,,,,,</td>\n",
       "      <td>30</td>\n",
       "      <td>29</td>\n",
       "      <td>ANSWERED</td>\n",
       "      <td>3</td>\n",
       "      <td>NaN</td>\n",
       "      <td>1.535771e+09</td>\n",
       "      <td>NaN</td>\n",
       "    </tr>\n",
       "    <tr>\n",
       "      <th>1</th>\n",
       "      <td>2018-08-31 23:41:13</td>\n",
       "      <td>SAMU 200 &lt;200&gt;</td>\n",
       "      <td>200</td>\n",
       "      <td>208</td>\n",
       "      <td>from-internal</td>\n",
       "      <td>SIP/200-00009555</td>\n",
       "      <td>SIP/208-00009556</td>\n",
       "      <td>Dial</td>\n",
       "      <td>SIP/208,,trI</td>\n",
       "      <td>133</td>\n",
       "      <td>124</td>\n",
       "      <td>ANSWERED</td>\n",
       "      <td>3</td>\n",
       "      <td>NaN</td>\n",
       "      <td>1.535770e+09</td>\n",
       "      <td>NaN</td>\n",
       "    </tr>\n",
       "  </tbody>\n",
       "</table>\n",
       "</div>"
      ],
      "text/plain": [
       "              calldate                     clid          src  dst  \\\n",
       "0  2018-08-31 23:59:31  0997159155 <0997159155>  9.97159e+08  131   \n",
       "1  2018-08-31 23:41:13           SAMU 200 <200>          200  208   \n",
       "\n",
       "        dcontext           channel        dstchannel lastapp       lastdata  \\\n",
       "0     ext-queues         DAHDI/1-1  SIP/202-0000955b   Queue  131,t,,,,,,,,   \n",
       "1  from-internal  SIP/200-00009555  SIP/208-00009556    Dial   SIP/208,,trI   \n",
       "\n",
       "   duration  billsec disposition  amaflags  accountcode      uniqueid  \\\n",
       "0        30       29    ANSWERED         3          NaN  1.535771e+09   \n",
       "1       133      124    ANSWERED         3          NaN  1.535770e+09   \n",
       "\n",
       "   userfield  \n",
       "0        NaN  \n",
       "1        NaN  "
      ]
     },
     "execution_count": 19,
     "metadata": {},
     "output_type": "execute_result"
    },
    {
     "data": {
      "text/html": [
       "<div>\n",
       "<style scoped>\n",
       "    .dataframe tbody tr th:only-of-type {\n",
       "        vertical-align: middle;\n",
       "    }\n",
       "\n",
       "    .dataframe tbody tr th {\n",
       "        vertical-align: top;\n",
       "    }\n",
       "\n",
       "    .dataframe thead th {\n",
       "        text-align: right;\n",
       "    }\n",
       "</style>\n",
       "<table border=\"1\" class=\"dataframe\">\n",
       "  <thead>\n",
       "    <tr style=\"text-align: right;\">\n",
       "      <th></th>\n",
       "      <th>calldate</th>\n",
       "      <th>clid</th>\n",
       "      <th>src</th>\n",
       "      <th>dst</th>\n",
       "      <th>dcontext</th>\n",
       "      <th>channel</th>\n",
       "      <th>dstchannel</th>\n",
       "      <th>lastapp</th>\n",
       "      <th>lastdata</th>\n",
       "      <th>duration</th>\n",
       "      <th>billsec</th>\n",
       "      <th>disposition</th>\n",
       "      <th>amaflags</th>\n",
       "      <th>accountcode</th>\n",
       "      <th>uniqueid</th>\n",
       "      <th>userfield</th>\n",
       "    </tr>\n",
       "  </thead>\n",
       "  <tbody>\n",
       "    <tr>\n",
       "      <th>0</th>\n",
       "      <td>2017-12-31 23:57:05</td>\n",
       "      <td>SAMU 201 &lt;201&gt;</td>\n",
       "      <td>201.0</td>\n",
       "      <td>208</td>\n",
       "      <td>from-internal</td>\n",
       "      <td>SIP/201-00007cb2</td>\n",
       "      <td>SIP/208-00007cb3</td>\n",
       "      <td>Dial</td>\n",
       "      <td>SIP/208,,trI</td>\n",
       "      <td>9</td>\n",
       "      <td>6</td>\n",
       "      <td>ANSWERED</td>\n",
       "      <td>3</td>\n",
       "      <td>NaN</td>\n",
       "      <td>1.514772e+09</td>\n",
       "      <td>NaN</td>\n",
       "    </tr>\n",
       "    <tr>\n",
       "      <th>1</th>\n",
       "      <td>2017-12-31 23:56:07</td>\n",
       "      <td>0977974236 &lt;0977974236&gt;</td>\n",
       "      <td>977974236.0</td>\n",
       "      <td>131</td>\n",
       "      <td>ext-queues</td>\n",
       "      <td>DAHDI/1-1</td>\n",
       "      <td>SIP/203-00007cb1</td>\n",
       "      <td>Queue</td>\n",
       "      <td>131,t,,,,,,,,</td>\n",
       "      <td>53</td>\n",
       "      <td>52</td>\n",
       "      <td>ANSWERED</td>\n",
       "      <td>3</td>\n",
       "      <td>NaN</td>\n",
       "      <td>1.514772e+09</td>\n",
       "      <td>NaN</td>\n",
       "    </tr>\n",
       "  </tbody>\n",
       "</table>\n",
       "</div>"
      ],
      "text/plain": [
       "              calldate                     clid          src  dst  \\\n",
       "0  2017-12-31 23:57:05           SAMU 201 <201>        201.0  208   \n",
       "1  2017-12-31 23:56:07  0977974236 <0977974236>  977974236.0  131   \n",
       "\n",
       "        dcontext           channel        dstchannel lastapp       lastdata  \\\n",
       "0  from-internal  SIP/201-00007cb2  SIP/208-00007cb3    Dial   SIP/208,,trI   \n",
       "1     ext-queues         DAHDI/1-1  SIP/203-00007cb1   Queue  131,t,,,,,,,,   \n",
       "\n",
       "   duration  billsec disposition  amaflags  accountcode      uniqueid  \\\n",
       "0         9        6    ANSWERED         3          NaN  1.514772e+09   \n",
       "1        53       52    ANSWERED         3          NaN  1.514772e+09   \n",
       "\n",
       "   userfield  \n",
       "0        NaN  \n",
       "1        NaN  "
      ]
     },
     "execution_count": 19,
     "metadata": {},
     "output_type": "execute_result"
    },
    {
     "data": {
      "text/html": [
       "<div>\n",
       "<style scoped>\n",
       "    .dataframe tbody tr th:only-of-type {\n",
       "        vertical-align: middle;\n",
       "    }\n",
       "\n",
       "    .dataframe tbody tr th {\n",
       "        vertical-align: top;\n",
       "    }\n",
       "\n",
       "    .dataframe thead th {\n",
       "        text-align: right;\n",
       "    }\n",
       "</style>\n",
       "<table border=\"1\" class=\"dataframe\">\n",
       "  <thead>\n",
       "    <tr style=\"text-align: right;\">\n",
       "      <th></th>\n",
       "      <th>calldate</th>\n",
       "      <th>clid</th>\n",
       "      <th>src</th>\n",
       "      <th>dst</th>\n",
       "      <th>dcontext</th>\n",
       "      <th>channel</th>\n",
       "      <th>dstchannel</th>\n",
       "      <th>lastapp</th>\n",
       "      <th>lastdata</th>\n",
       "      <th>duration</th>\n",
       "      <th>billsec</th>\n",
       "      <th>disposition</th>\n",
       "      <th>amaflags</th>\n",
       "      <th>accountcode</th>\n",
       "      <th>uniqueid</th>\n",
       "      <th>userfield</th>\n",
       "    </tr>\n",
       "  </thead>\n",
       "  <tbody>\n",
       "    <tr>\n",
       "      <th>0</th>\n",
       "      <td>2020-04-30 23:59:41</td>\n",
       "      <td>5692065600 &lt;5692065600&gt;</td>\n",
       "      <td>5.692066e+09</td>\n",
       "      <td>131</td>\n",
       "      <td>ext-queues</td>\n",
       "      <td>DAHDI/6-1</td>\n",
       "      <td>NaN</td>\n",
       "      <td>Queue</td>\n",
       "      <td>131,tr,,,,,,,,</td>\n",
       "      <td>7</td>\n",
       "      <td>6</td>\n",
       "      <td>ANSWERED</td>\n",
       "      <td>3</td>\n",
       "      <td>NaN</td>\n",
       "      <td>1.588306e+09</td>\n",
       "      <td>NaN</td>\n",
       "    </tr>\n",
       "    <tr>\n",
       "      <th>1</th>\n",
       "      <td>2020-04-30 23:59:40</td>\n",
       "      <td>966213874 &lt;966213874&gt;</td>\n",
       "      <td>9.662139e+08</td>\n",
       "      <td>131</td>\n",
       "      <td>ext-queues</td>\n",
       "      <td>DAHDI/7-1</td>\n",
       "      <td>SIP/206-00025ae8</td>\n",
       "      <td>Queue</td>\n",
       "      <td>131,tr,,,,,,,,</td>\n",
       "      <td>246</td>\n",
       "      <td>245</td>\n",
       "      <td>ANSWERED</td>\n",
       "      <td>3</td>\n",
       "      <td>NaN</td>\n",
       "      <td>1.588306e+09</td>\n",
       "      <td>NaN</td>\n",
       "    </tr>\n",
       "  </tbody>\n",
       "</table>\n",
       "</div>"
      ],
      "text/plain": [
       "              calldate                     clid           src  dst  \\\n",
       "0  2020-04-30 23:59:41  5692065600 <5692065600>  5.692066e+09  131   \n",
       "1  2020-04-30 23:59:40    966213874 <966213874>  9.662139e+08  131   \n",
       "\n",
       "     dcontext    channel        dstchannel lastapp        lastdata  duration  \\\n",
       "0  ext-queues  DAHDI/6-1               NaN   Queue  131,tr,,,,,,,,         7   \n",
       "1  ext-queues  DAHDI/7-1  SIP/206-00025ae8   Queue  131,tr,,,,,,,,       246   \n",
       "\n",
       "   billsec disposition  amaflags  accountcode      uniqueid  userfield  \n",
       "0        6    ANSWERED         3          NaN  1.588306e+09        NaN  \n",
       "1      245    ANSWERED         3          NaN  1.588306e+09        NaN  "
      ]
     },
     "execution_count": 19,
     "metadata": {},
     "output_type": "execute_result"
    }
   ],
   "source": [
    "for cdr in archivos_llamadas:\n",
    "    dum = pd.read_csv(cdr ,  encoding = \"ISO-8859-1\") \n",
    "    dum.head(2)\n",
    "    BD = BD.append(dum)"
   ]
  },
  {
   "cell_type": "code",
   "execution_count": 20,
   "metadata": {},
   "outputs": [
    {
     "name": "stdout",
     "output_type": "stream",
     "text": [
      "<class 'pandas.core.frame.DataFrame'>\n",
      "Int64Index: 3474621 entries, 0 to 91457\n",
      "Data columns (total 16 columns):\n",
      " #   Column       Dtype  \n",
      "---  ------       -----  \n",
      " 0   calldate     object \n",
      " 1   clid         object \n",
      " 2   src          object \n",
      " 3   dst          object \n",
      " 4   dcontext     object \n",
      " 5   channel      object \n",
      " 6   dstchannel   object \n",
      " 7   lastapp      object \n",
      " 8   lastdata     object \n",
      " 9   duration     int64  \n",
      " 10  billsec      int64  \n",
      " 11  disposition  object \n",
      " 12  amaflags     int64  \n",
      " 13  accountcode  float64\n",
      " 14  uniqueid     float64\n",
      " 15  userfield    float64\n",
      "dtypes: float64(3), int64(3), object(10)\n",
      "memory usage: 450.7+ MB\n"
     ]
    }
   ],
   "source": [
    "BD.info()\n",
    "BD = BD.sort_values('calldate')\n",
    "BD = BD.reset_index(drop=True)"
   ]
  },
  {
   "cell_type": "markdown",
   "metadata": {},
   "source": [
    "# Comienzo a arreglar base de datos"
   ]
  },
  {
   "cell_type": "markdown",
   "metadata": {},
   "source": [
    "dejo como timestamp el calldate"
   ]
  },
  {
   "cell_type": "code",
   "execution_count": null,
   "metadata": {},
   "outputs": [],
   "source": [
    "BD.calldate = pd.to_datetime(BD.calldate)"
   ]
  },
  {
   "cell_type": "markdown",
   "metadata": {},
   "source": [
    "dejo como texto en número el calldate"
   ]
  },
  {
   "cell_type": "code",
   "execution_count": null,
   "metadata": {
    "scrolled": true
   },
   "outputs": [],
   "source": [
    "dumm = BD.loc[BD.calldate > pd.to_datetime('2020-05-10 15:30')]\n",
    "dumm\n",
    "dumm.to_excel('../BD llamadas/dum.xls')"
   ]
  },
  {
   "cell_type": "code",
   "execution_count": null,
   "metadata": {},
   "outputs": [],
   "source": [
    "BD.info()"
   ]
  },
  {
   "cell_type": "code",
   "execution_count": null,
   "metadata": {},
   "outputs": [],
   "source": [
    "BD.columns"
   ]
  },
  {
   "cell_type": "code",
   "execution_count": null,
   "metadata": {
    "scrolled": true
   },
   "outputs": [],
   "source": [
    "BD = BD[['calldate', 'src', 'dst', 'channel',\n",
    "        'dstchannel', 'lastapp', 'duration', 'billsec', 'disposition']]\n",
    "BD.head()"
   ]
  },
  {
   "cell_type": "markdown",
   "metadata": {},
   "source": [
    "# Arreglo nombres"
   ]
  },
  {
   "cell_type": "code",
   "execution_count": null,
   "metadata": {},
   "outputs": [],
   "source": [
    "BD.columns = ['Fecha', 'Origen_n', 'Destino_n', 'Origen_canal', 'Destino_canal',\n",
    "              'Ultima', 'Duracion', 'Cobro', 'Estado']"
   ]
  },
  {
   "cell_type": "code",
   "execution_count": null,
   "metadata": {},
   "outputs": [],
   "source": [
    "BD.head()"
   ]
  },
  {
   "cell_type": "markdown",
   "metadata": {},
   "source": [
    "# Corrijo la dispersión de la duración de la llamada por percentiles y "
   ]
  },
  {
   "cell_type": "code",
   "execution_count": null,
   "metadata": {
    "scrolled": false
   },
   "outputs": [],
   "source": [
    "BD.Duracion.describe()\n",
    "inf = 1\n",
    "sup = BD.Duracion.quantile(0.999)\n",
    "fixed = ((BD.Duracion>=inf) &\n",
    "             (BD.Duracion<=sup)\n",
    "        )\n",
    "print('rango sup es:', sup, 'el inferior es: ', inf)\n",
    "print('Cantidad de llamadas <0: ', BD.loc[BD.Duracion<0].Fecha.count())\n",
    "\n",
    "print('\\n')\n",
    "\n",
    "print('Cantidad de valores corregidos')\n",
    "fixed.value_counts()\n",
    "(BD.loc[fixed].Duracion/60).hist()\n",
    "plt.title('Duración en minutos de las llamadas corregidas')"
   ]
  },
  {
   "cell_type": "markdown",
   "metadata": {},
   "source": [
    "## Arreglo: Fechas"
   ]
  },
  {
   "cell_type": "code",
   "execution_count": null,
   "metadata": {},
   "outputs": [],
   "source": [
    "BD['Fecha'].describe()"
   ]
  },
  {
   "cell_type": "code",
   "execution_count": null,
   "metadata": {
    "scrolled": false
   },
   "outputs": [],
   "source": [
    "BD.Fecha.describe()\n",
    "BD.groupby(BD.Fecha.dt.to_period('M')).Fecha.count().plot(grid=True)\n",
    "plt.ylim([19000,40000])"
   ]
  },
  {
   "cell_type": "markdown",
   "metadata": {},
   "source": [
    "# Cambio los nombres de los estados de las llamadas"
   ]
  },
  {
   "cell_type": "code",
   "execution_count": null,
   "metadata": {},
   "outputs": [],
   "source": [
    "BD = BD.replace({\"Estado\": {'ANSWERED': 'Contestada',\n",
    "                            'BUSY': 'Ocupado',\n",
    "                            'NO ANSWER': 'Sin respuesta'}\n",
    "                }\n",
    "               )"
   ]
  },
  {
   "cell_type": "markdown",
   "metadata": {},
   "source": [
    "# ordeno lo que son los los números de origen y los canales"
   ]
  },
  {
   "cell_type": "markdown",
   "metadata": {},
   "source": [
    "extraigo del tipo de canal el n SIP de destino"
   ]
  },
  {
   "cell_type": "code",
   "execution_count": null,
   "metadata": {
    "scrolled": false
   },
   "outputs": [],
   "source": [
    "#extraigo del tipo de canal el n SIP de destino\n",
    "BD['Destino_nSIP'] = BD['Destino_canal'].str.split('\\D',expand=True)[4]\n",
    "\n",
    "#extraigo el tipo de canal: SIP/trunk\n",
    "BD.loc[\n",
    "    BD['Origen_canal'].str.contains('SIP') == True,\n",
    "    'Origen_tipo'] = 'SIP'\n",
    "BD.loc[\n",
    "    BD['Origen_canal'].str.contains('DAHDI') == True,\n",
    "    'Origen_tipo'] = 'Trunk'\n",
    "BD.loc[\n",
    "    BD['Destino_canal'].str.contains('SIP') == True,\n",
    "    'Destino_tipo'] = 'SIP'\n",
    "BD.loc[\n",
    "    BD['Destino_canal'].str.contains('DAHDI') == True,\n",
    "    'Destino_tipo'] = 'Trunk'"
   ]
  },
  {
   "cell_type": "markdown",
   "metadata": {},
   "source": [
    "Defino el tipo de llamada registrada según origen y destino"
   ]
  },
  {
   "cell_type": "code",
   "execution_count": null,
   "metadata": {},
   "outputs": [],
   "source": [
    "BD.loc[(BD.Origen_tipo == 'Trunk') & (BD.Destino_n == '131'),\n",
    "      'Tipo_llamada'] = 'Hacia SAMU'\n",
    "BD.loc[(BD.Origen_tipo == 'SIP') & (BD.Destino_tipo == 'Trunk'),\n",
    "      'Tipo_llamada'] = 'Desde SAMU'\n",
    "BD.loc[(BD.Origen_tipo == 'SIP') & (BD.Destino_tipo == 'SIP'),\n",
    "      'Tipo_llamada'] = 'Entre SAMU'"
   ]
  },
  {
   "cell_type": "code",
   "execution_count": null,
   "metadata": {
    "scrolled": true
   },
   "outputs": [],
   "source": [
    "BD = BD[['Fecha', 'Tipo_llamada',\n",
    "           'Origen_tipo', 'Destino_tipo',\n",
    "            'Origen_n', 'Destino_n', 'Destino_nSIP',\n",
    "           'Estado', 'Duracion', 'Cobro']]\n",
    "BD.head()"
   ]
  },
  {
   "cell_type": "markdown",
   "metadata": {},
   "source": [
    "agrego el 'fin de la llamada'"
   ]
  },
  {
   "cell_type": "code",
   "execution_count": null,
   "metadata": {},
   "outputs": [],
   "source": [
    "BD['Fin'] = BD.Fecha + pd.to_timedelta(BD.Duracion, 'S')"
   ]
  },
  {
   "cell_type": "markdown",
   "metadata": {},
   "source": [
    "Traro de definir las llamadas perdidas"
   ]
  },
  {
   "cell_type": "code",
   "execution_count": null,
   "metadata": {
    "scrolled": true
   },
   "outputs": [],
   "source": [
    "BD.loc[\n",
    "    (BD.Tipo_llamada == 'Hacia SAMU') & (BD.Destino_nSIP.isna() == True),\n",
    "    'Estado'] = 'Perdida'\n",
    "\n",
    "tab_frec(BD.Estado)\n",
    "\n",
    "BD.loc[\n",
    "    (BD.Estado == 'Perdida') & (BD.Duracion<10),\n",
    "    'Estado'] = 'No Válida'\n",
    "tab_frec(BD.Estado)"
   ]
  },
  {
   "cell_type": "code",
   "execution_count": null,
   "metadata": {
    "scrolled": true
   },
   "outputs": [],
   "source": [
    "a_categ = ['Tipo_llamada', 'Origen_tipo', 'Destino_tipo', 'Estado']\n",
    "a_int   = ['Origen_n','Destino_n', 'Destino_nSIP']\n",
    "for x in a_categ:\n",
    "    BD[x] = BD[x].astype('category')\n",
    "for x in a_int:\n",
    "    BD[x] = pd.to_numeric(BD[x],errors='coerce')"
   ]
  },
  {
   "cell_type": "code",
   "execution_count": null,
   "metadata": {},
   "outputs": [],
   "source": [
    "dumm = BD.loc[BD.Fecha > pd.to_datetime('2020-03-10 15:30')]\n",
    "dumm.head()\n",
    "dumm.to_excel('../BD llamadas/dum2.xls')"
   ]
  },
  {
   "cell_type": "code",
   "execution_count": null,
   "metadata": {},
   "outputs": [],
   "source": [
    "SIP_131 = [200, 201, 202, 203, 204, 206, 210, 214]\n",
    "SIP_regulador = [205, 209, 212]\n",
    "SIP_despachador = [207, 208]"
   ]
  },
  {
   "cell_type": "markdown",
   "metadata": {},
   "source": [
    "# Esporto la BD"
   ]
  },
  {
   "cell_type": "code",
   "execution_count": null,
   "metadata": {},
   "outputs": [],
   "source": [
    "BD.to_pickle('./llamadas.pkl')"
   ]
  },
  {
   "cell_type": "markdown",
   "metadata": {},
   "source": [
    "Cooro el identificador de traspasos"
   ]
  },
  {
   "cell_type": "code",
   "execution_count": null,
   "metadata": {},
   "outputs": [],
   "source": []
  },
  {
   "cell_type": "code",
   "execution_count": null,
   "metadata": {},
   "outputs": [],
   "source": [
    "#exec(open('./Identificador traspasos.py').read())"
   ]
  },
  {
   "cell_type": "markdown",
   "metadata": {},
   "source": [
    "## Selecciono aquellas llamadas que son el resultado de un traspaso"
   ]
  },
  {
   "cell_type": "markdown",
   "metadata": {},
   "source": [
    "busco aquellas llamadas que fueron traspasadas a otro teléfono considerando la duración de la llamada....."
   ]
  },
  {
   "cell_type": "code",
   "execution_count": null,
   "metadata": {
    "scrolled": true
   },
   "outputs": [],
   "source": [
    "# lista_llamdas_traspasadas = []\n",
    "# inicio = datetime.now()\n",
    "# inicio\n",
    "# dum = BD.copy()\n",
    "# for x in dum.index.values:\n",
    "#     print (x)\n",
    "#     if dum.loc[x].Tipo_llamada != 'Entre SAMU':\n",
    "#         recive = dum.loc[x].Destino_nSIP\n",
    "#         rango = dum.loc[(dum.Fecha < dum.loc[x].Fin) & (dum.Fecha > dum.loc[x].Fecha)]\n",
    "#         #rango\n",
    "#         if (rango.shape[0] !=0):\n",
    "#             #(rango.Tipo_llamada == 'Entre SAMU')\n",
    "#             print('inicio shape ')\n",
    "#             print('SIP:', recive)\n",
    "#             rango.shape\n",
    "            \n",
    "#             indice = list(rango.loc[\n",
    "#                 (rango.Origen_n == recive) &\n",
    "#                 (rango.Estado == 'Contestada')].tail(1).index\n",
    "#                          )\n",
    "# #             if indice.shape[0] !=0:\n",
    "#             if len(indice) !=0:\n",
    "#                 print('INGRESADO!!', dum.loc[x].Fecha)\n",
    "#                 lista_llamdas_traspasadas.append(indice[0])\n",
    "#             print('fin shape ')\n",
    "#         print('------------------------------------')\n",
    "#     print('next')\n",
    "# len(lista_llamdas_traspasadas)\n",
    "# datetime.now() - inicio"
   ]
  },
  {
   "cell_type": "code",
   "execution_count": null,
   "metadata": {
    "scrolled": true
   },
   "outputs": [],
   "source": [
    "# BD.loc[BD.index.isin(lista_llamdas_traspasadas), 'Trapaso'] = 'Si'\n",
    "# BD.loc[BD.index.isin(lista_llamdas_traspasadas)== False, 'Trapaso'] = 'No'"
   ]
  },
  {
   "cell_type": "code",
   "execution_count": null,
   "metadata": {},
   "outputs": [],
   "source": [
    "# BD.Trapaso.value_counts()"
   ]
  },
  {
   "cell_type": "markdown",
   "metadata": {},
   "source": [
    "# Datos generales"
   ]
  },
  {
   "cell_type": "code",
   "execution_count": null,
   "metadata": {},
   "outputs": [],
   "source": [
    "BD.columns"
   ]
  },
  {
   "cell_type": "code",
   "execution_count": null,
   "metadata": {},
   "outputs": [],
   "source": [
    "BD.Fecha.describe()\n",
    "BD.groupby(BD.Fecha.dt.to_period('d')).Fecha.count().plot(grid=True)"
   ]
  },
  {
   "cell_type": "code",
   "execution_count": null,
   "metadata": {},
   "outputs": [],
   "source": [
    "BD.head()\n",
    "tab_frec(BD.Tipo_llamada)\n",
    "tab_frec(BD.Estado)\n"
   ]
  }
 ],
 "metadata": {
  "kernelspec": {
   "display_name": "Python 3",
   "language": "python",
   "name": "python3"
  },
  "language_info": {
   "codemirror_mode": {
    "name": "ipython",
    "version": 3
   },
   "file_extension": ".py",
   "mimetype": "text/x-python",
   "name": "python",
   "nbconvert_exporter": "python",
   "pygments_lexer": "ipython3",
   "version": "3.7.3"
  }
 },
 "nbformat": 4,
 "nbformat_minor": 2
}
